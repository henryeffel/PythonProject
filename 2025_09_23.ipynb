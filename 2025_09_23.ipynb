{
 "cells": [
  {
   "cell_type": "code",
   "execution_count": 4,
   "id": "eacb2a7e",
   "metadata": {},
   "outputs": [
    {
     "name": "stdout",
     "output_type": "stream",
     "text": [
      "1\n"
     ]
    }
   ],
   "source": [
    "def vartest(a):\n",
    "    a = a+1\n",
    "\n",
    "vartest(3)\n",
    "print(a)"
   ]
  },
  {
   "cell_type": "code",
   "execution_count": 6,
   "id": "53b94275",
   "metadata": {},
   "outputs": [
    {
     "name": "stdout",
     "output_type": "stream",
     "text": [
      "[(52, 12, 52), (522, 526, 512), (332, 232, 342), (15, 15, 225)]\n"
     ]
    }
   ],
   "source": [
    "r = (52,522,332,15)\n",
    "g = (12,526,232,15)\n",
    "b = (52,512,342,225)\n",
    "\n",
    "img = list(zip(r,g,b))\n",
    "print(img)"
   ]
  },
  {
   "cell_type": "code",
   "execution_count": 7,
   "id": "7fbb92b0",
   "metadata": {},
   "outputs": [],
   "source": [
    "f = (\"banana\", \"apple\", \"orange\",\"kiwi\")"
   ]
  },
  {
   "cell_type": "code",
   "execution_count": 8,
   "id": "984b36fd",
   "metadata": {},
   "outputs": [
    {
     "data": {
      "text/plain": [
       "{1: 'banana', 2: 'apple', 3: 'orange', 4: 'kiwi'}"
      ]
     },
     "execution_count": 8,
     "metadata": {},
     "output_type": "execute_result"
    }
   ],
   "source": [
    "dict(enumerate(f,1))"
   ]
  },
  {
   "cell_type": "code",
   "execution_count": 14,
   "id": "edbe2aac",
   "metadata": {},
   "outputs": [
    {
     "name": "stdout",
     "output_type": "stream",
     "text": [
      "banana\n",
      "apple\n",
      "orange\n",
      "kiwi\n"
     ]
    }
   ],
   "source": [
    "for i in f:\n",
    "    print(i)"
   ]
  },
  {
   "cell_type": "code",
   "execution_count": 15,
   "id": "8cdd270e",
   "metadata": {},
   "outputs": [
    {
     "name": "stdout",
     "output_type": "stream",
     "text": [
      "[2, 3, 4, 5, 6]\n"
     ]
    }
   ],
   "source": [
    "mylist = [1,2,3,4,5]\n",
    "# -> [2,3,4,5,6]\n",
    "result = []\n",
    "for i in mylist:\n",
    "    result.append(i+1)\n",
    "print(result)"
   ]
  },
  {
   "cell_type": "code",
   "execution_count": 17,
   "id": "f21d9f32",
   "metadata": {},
   "outputs": [
    {
     "data": {
      "text/plain": [
       "[2, 3, 4, 5, 6]"
      ]
     },
     "execution_count": 17,
     "metadata": {},
     "output_type": "execute_result"
    }
   ],
   "source": [
    "mylist = [1,2,3,4,5]\n",
    "\n",
    "def add_one(n):\n",
    "    return n+1\n",
    "\n",
    "result = list(map(add_one,mylist))\n",
    "result"
   ]
  },
  {
   "cell_type": "code",
   "execution_count": 18,
   "id": "71c861ba",
   "metadata": {},
   "outputs": [],
   "source": [
    "result = []\n",
    "for i in range(len(mylist)+1):\n",
    "    result.append(i+1)"
   ]
  },
  {
   "cell_type": "code",
   "execution_count": 19,
   "id": "4a0b0579",
   "metadata": {},
   "outputs": [
    {
     "data": {
      "text/plain": [
       "[3, -6, 100, 26]"
      ]
     },
     "execution_count": 19,
     "metadata": {},
     "output_type": "execute_result"
    }
   ],
   "source": [
    "my_list = [3.14, -5.6, 100.4, 25.99]\n",
    "\n",
    "result = list(map(round,my_list))\n",
    "result"
   ]
  },
  {
   "cell_type": "code",
   "execution_count": 20,
   "id": "75475164",
   "metadata": {},
   "outputs": [
    {
     "data": {
      "text/plain": [
       "[2, 3, 4, 5, 6]"
      ]
     },
     "execution_count": 20,
     "metadata": {},
     "output_type": "execute_result"
    }
   ],
   "source": [
    "mylist = [1,2,3,4,5]\n",
    "\n",
    "def add_one(n):\n",
    "    return n+1\n",
    "\n",
    "result = list(map(lambda x: x+1,mylist))\n",
    "result"
   ]
  },
  {
   "cell_type": "code",
   "execution_count": 21,
   "id": "4860fc3c",
   "metadata": {},
   "outputs": [
    {
     "data": {
      "text/plain": [
       "[1, 4, 9, 16, 25, 36]"
      ]
     },
     "execution_count": 21,
     "metadata": {},
     "output_type": "execute_result"
    }
   ],
   "source": [
    "numbers = [1,2,3,4,5,6]\n",
    "squared = []\n",
    "result = list(map(lambda x : x**2, numbers ))\n",
    "result"
   ]
  },
  {
   "cell_type": "code",
   "execution_count": 22,
   "id": "3bd9bf79",
   "metadata": {},
   "outputs": [
    {
     "data": {
      "text/plain": [
       "[2, 4, 6]"
      ]
     },
     "execution_count": 22,
     "metadata": {},
     "output_type": "execute_result"
    }
   ],
   "source": [
    "numbers = [1,2,3,4,5,6]\n",
    "even_numbers = []\n",
    "result = list(filter(lambda x : x % 2 == 0, numbers))\n",
    "result"
   ]
  },
  {
   "cell_type": "code",
   "execution_count": 51,
   "id": "4d082bd7",
   "metadata": {},
   "outputs": [],
   "source": [
    "score1 = [[80, 70], [90, 50], [40, 70], [50, 80]]"
   ]
  },
  {
   "cell_type": "code",
   "execution_count": null,
   "id": "1f83785b",
   "metadata": {},
   "outputs": [],
   "source": [
    "score = [[80, 70], [90, 50], [40, 70], [50, 80]]\n",
    "def rank(score):\n",
    "    result = []\n",
    "    avg = []\n",
    "    for i,j in score:\n",
    "        avg.append((i+j)/2)\n",
    "    avg_sort = sorted(avg,reverse=True)\n",
    "    for i in avg:\n",
    "        result.append(avg_sort.index(i)+1)\n",
    "    return result"
   ]
  },
  {
   "cell_type": "code",
   "execution_count": 49,
   "id": "7b1e40d5",
   "metadata": {},
   "outputs": [],
   "source": [
    "score = [[80, 70], [90, 50], [40, 70], [50, 80]]"
   ]
  },
  {
   "cell_type": "code",
   "execution_count": 52,
   "id": "696e44fd",
   "metadata": {},
   "outputs": [],
   "source": [
    "def rank(score):\n",
    "    avg = [(i+j)/2 for i,j in score]\n",
    "    avg_sort = sorted(avg,reverse=True)\n",
    "    result = [avg_sort.index(i)+1 for i in avg]\n",
    "    return reulst"
   ]
  },
  {
   "cell_type": "code",
   "execution_count": 53,
   "id": "12f821dc",
   "metadata": {},
   "outputs": [
    {
     "ename": "SyntaxError",
     "evalue": "invalid syntax (3051558630.py, line 1)",
     "output_type": "error",
     "traceback": [
      "  \u001b[36mCell\u001b[39m\u001b[36m \u001b[39m\u001b[32mIn[53]\u001b[39m\u001b[32m, line 1\u001b[39m\n\u001b[31m    \u001b[39m\u001b[31m소수 판별 함수 is_prime()\u001b[39m\n       ^\n\u001b[31mSyntaxError\u001b[39m\u001b[31m:\u001b[39m invalid syntax\n"
     ]
    }
   ],
   "source": [
    "소수 판별 함수 is_prime()\n",
    "[2,3,4,5,6,7,8,9]\n",
    "\n",
    "     "
   ]
  },
  {
   "cell_type": "code",
   "execution_count": 72,
   "id": "4cd20651",
   "metadata": {},
   "outputs": [
    {
     "name": "stdout",
     "output_type": "stream",
     "text": [
      "[True, True, False, True, False, True, False, False]\n"
     ]
    }
   ],
   "source": [
    "def is_prime(prime):\n",
    "    result = []\n",
    "    for i in prime:\n",
    "        isprime=True\n",
    "        for j in range(2,i):\n",
    "            if i % j == 0:\n",
    "                isprime = False\n",
    "                break\n",
    "        result.append(isprime)\n",
    "    return result\n",
    "print(is_prime([2,3,4,5,6,7,8,9]))"
   ]
  },
  {
   "cell_type": "code",
   "execution_count": 75,
   "id": "cf2e6519",
   "metadata": {},
   "outputs": [
    {
     "data": {
      "text/plain": [
       "[True, True, False, True, False, True, False, False]"
      ]
     },
     "execution_count": 75,
     "metadata": {},
     "output_type": "execute_result"
    }
   ],
   "source": [
    "is_prime([2,3,4,5,6,7,8,9])"
   ]
  },
  {
   "cell_type": "code",
   "execution_count": 76,
   "id": "b51ce3bb",
   "metadata": {},
   "outputs": [],
   "source": [
    "from random import randint"
   ]
  },
  {
   "cell_type": "code",
   "execution_count": 77,
   "id": "4a48b5a6",
   "metadata": {},
   "outputs": [],
   "source": [
    "def lucky_nums():\n",
    "    num = set()\n",
    "    while len(num) < 6:\n",
    "        n = randint(1,45)\n",
    "        num.add(n)\n",
    "    return sorted(num)"
   ]
  },
  {
   "cell_type": "code",
   "execution_count": 91,
   "id": "db4983bd",
   "metadata": {},
   "outputs": [
    {
     "name": "stdout",
     "output_type": "stream",
     "text": [
      "[10, 18, 22, 24, 30, 36]\n"
     ]
    }
   ],
   "source": [
    "print(lucky_nums())"
   ]
  },
  {
   "cell_type": "code",
   "execution_count": 92,
   "id": "985919f5",
   "metadata": {},
   "outputs": [
    {
     "name": "stdout",
     "output_type": "stream",
     "text": [
      "[3, 8, 12, 18, 40, 42]\n"
     ]
    }
   ],
   "source": [
    "import random as r\n",
    "\n",
    "result = []\n",
    "while len(result) < 6:\n",
    "    num = r.randint(1,45)\n",
    "    if num not in result:\n",
    "        result.append(num)\n",
    "\n",
    "print(sorted(result))"
   ]
  },
  {
   "cell_type": "markdown",
   "id": "832af9f2",
   "metadata": {},
   "source": [
    "사용자 정의 모듈"
   ]
  },
  {
   "cell_type": "code",
   "execution_count": 93,
   "id": "9d64f45e",
   "metadata": {},
   "outputs": [
    {
     "name": "stdout",
     "output_type": "stream",
     "text": [
      "10\n",
      "-2\n"
     ]
    }
   ],
   "source": [
    "import mymodule as mm\n",
    "\n",
    "print(mm.my_add(7,3))\n",
    "print(mm.my_sub(3,5))"
   ]
  },
  {
   "cell_type": "code",
   "execution_count": 94,
   "id": "0216e6df",
   "metadata": {},
   "outputs": [],
   "source": [
    "class Person:\n",
    "    def __init__(self,name,age):\n",
    "        self.name = name\n",
    "        self.age = age\n",
    "\n",
    "    def walk(self):\n",
    "        print(f\"{self.name}이 걸어가요\")\n"
   ]
  },
  {
   "cell_type": "code",
   "execution_count": 95,
   "id": "09b1c812",
   "metadata": {},
   "outputs": [],
   "source": [
    "person1 = Person(\"박시은\",25)"
   ]
  },
  {
   "cell_type": "code",
   "execution_count": 96,
   "id": "ca4ba0d2",
   "metadata": {},
   "outputs": [
    {
     "data": {
      "text/plain": [
       "__main__.Person"
      ]
     },
     "execution_count": 96,
     "metadata": {},
     "output_type": "execute_result"
    }
   ],
   "source": [
    "type(person1)"
   ]
  },
  {
   "cell_type": "code",
   "execution_count": 97,
   "id": "c400866e",
   "metadata": {},
   "outputs": [
    {
     "name": "stdout",
     "output_type": "stream",
     "text": [
      "<class '__main__.Person'>\n"
     ]
    }
   ],
   "source": [
    "print(type(person1))"
   ]
  },
  {
   "cell_type": "code",
   "execution_count": 98,
   "id": "4668d24b",
   "metadata": {},
   "outputs": [
    {
     "name": "stdout",
     "output_type": "stream",
     "text": [
      "박시은이 걸어가요\n"
     ]
    }
   ],
   "source": [
    "person1.walk()"
   ]
  },
  {
   "cell_type": "code",
   "execution_count": 99,
   "id": "a40875de",
   "metadata": {},
   "outputs": [],
   "source": [
    "person2 = Person(\"배수민\",25)"
   ]
  },
  {
   "cell_type": "code",
   "execution_count": 100,
   "id": "a021992c",
   "metadata": {},
   "outputs": [
    {
     "name": "stdout",
     "output_type": "stream",
     "text": [
      "배수민이 걸어가요\n"
     ]
    }
   ],
   "source": [
    "person2.walk()"
   ]
  },
  {
   "cell_type": "code",
   "execution_count": 110,
   "id": "505c0ec4",
   "metadata": {},
   "outputs": [],
   "source": [
    "class NewPerson(Person):\n",
    "    def fly(self):\n",
    "        print(f\"{self.name}이 날아가요\")"
   ]
  },
  {
   "cell_type": "code",
   "execution_count": 111,
   "id": "bf195015",
   "metadata": {},
   "outputs": [],
   "source": [
    "person3 = NewPerson(\"이채영\",33)"
   ]
  },
  {
   "cell_type": "code",
   "execution_count": 112,
   "id": "dff7e575",
   "metadata": {},
   "outputs": [
    {
     "name": "stdout",
     "output_type": "stream",
     "text": [
      "이채영이 걸어가요\n"
     ]
    }
   ],
   "source": [
    "person3.walk()"
   ]
  },
  {
   "cell_type": "code",
   "execution_count": 113,
   "id": "c20d25e6",
   "metadata": {},
   "outputs": [
    {
     "name": "stdout",
     "output_type": "stream",
     "text": [
      "이채영이 날아가요\n"
     ]
    }
   ],
   "source": [
    "person3.fly()"
   ]
  },
  {
   "cell_type": "code",
   "execution_count": 115,
   "id": "9d26ffdb",
   "metadata": {},
   "outputs": [],
   "source": [
    "## 결제 시스템\n",
    "#신용카드, 포인트 결제"
   ]
  },
  {
   "cell_type": "code",
   "execution_count": 116,
   "id": "c4da62b7",
   "metadata": {},
   "outputs": [
    {
     "ename": "SyntaxError",
     "evalue": "f-string: unmatched '[' (2542259233.py, line 3)",
     "output_type": "error",
     "traceback": [
      "  \u001b[36mCell\u001b[39m\u001b[36m \u001b[39m\u001b[32mIn[116]\u001b[39m\u001b[32m, line 3\u001b[39m\n\u001b[31m    \u001b[39m\u001b[31mprint(f\"{card_info[\"card_number\"]}카드로 {amount}원 결제합니다.\")\u001b[39m\n                        ^\n\u001b[31mSyntaxError\u001b[39m\u001b[31m:\u001b[39m f-string: unmatched '['\n"
     ]
    }
   ],
   "source": [
    "def pay_credit_payment(card_info,amount):\n",
    "    \"crdit card pay logic\"\n",
    "    print(f\"{card_info[\"card_number\"]}카드로 {amount}원 결제합니다.\")\n",
    "    print(\"approved\")\n",
    "\n",
    "def pay_with_reward(reward_wallet, amout):\n",
    "    if reward_wallet >= amount:\n",
    "        print(f\"reward {amount} points used\")\n",
    "    else:\n",
    "        print(\"not enough reward.\")\n"
   ]
  },
  {
   "cell_type": "code",
   "execution_count": 118,
   "id": "cba4fd29",
   "metadata": {},
   "outputs": [
    {
     "ename": "SyntaxError",
     "evalue": "invalid syntax (3931551345.py, line 4)",
     "output_type": "error",
     "traceback": [
      "  \u001b[36mCell\u001b[39m\u001b[36m \u001b[39m\u001b[32mIn[118]\u001b[39m\u001b[32m, line 4\u001b[39m\n\u001b[31m    \u001b[39m\u001b[31m\"cvc\" : \"123\"\u001b[39m\n          ^\n\u001b[31mSyntaxError\u001b[39m\u001b[31m:\u001b[39m invalid syntax\n"
     ]
    }
   ],
   "source": [
    "credit_card = {\n",
    "    \"type\":\"credit_Card\",\n",
    "    \"card_number\": \"1234-5678\"\n",
    "    \"cvc\" : \"123\"\n",
    "}\n",
    "\n",
    "my_points = {\n",
    "    \"type\": \"point_wallet\",\n",
    "    \"balance\": 50000\n",
    "}"
   ]
  },
  {
   "cell_type": "markdown",
   "id": "4389a77e",
   "metadata": {},
   "source": []
  },
  {
   "cell_type": "code",
   "execution_count": 119,
   "id": "e4255c23",
   "metadata": {},
   "outputs": [],
   "source": [
    "class PaymentMethod:\n",
    "    def pay(self,amount):\n",
    "        print(f\"{amount}$ pay starts\")\n"
   ]
  },
  {
   "cell_type": "code",
   "execution_count": 120,
   "id": "4f7434dd",
   "metadata": {},
   "outputs": [],
   "source": [
    "class CreditCard(PaymentMethod):\n",
    "    def __init__(self,card_number,cvc):\n",
    "        self.card_number = card_number\n",
    "        self.cvc = cvc\n",
    "\n",
    "    def pay(self, amount):\n",
    "        print(f\"{self.card_number}카드로 {amount}원 결제합니다.\")\n",
    "        print('결제 완료')\n",
    "\n",
    "\n",
    "class PointWallet(PaymentMethod):\n",
    "    def __init__(self,balance):\n",
    "        self.balance = balance\n",
    "\n",
    "    def pay(self, amount):\n",
    "        \n",
    "        if self.balance >= amount:\n",
    "            self.balace -= amount\n",
    "            print(f\"포인트 {amount}점을 사용해서 결제했습니다.\")\n",
    "        else:\n",
    "            print(\"포인트가 부족합니다.\")"
   ]
  },
  {
   "cell_type": "code",
   "execution_count": 121,
   "id": "e3321600",
   "metadata": {},
   "outputs": [],
   "source": [
    "def process_payment(payment_method,amount):\n",
    "    payment_method.pay(amount)\n",
    "\n",
    "card_obj = CreditCard(\"444444-444444-xxxxx\",444)\n",
    "reward_obj = PointWallet(5000)"
   ]
  },
  {
   "cell_type": "code",
   "execution_count": 122,
   "id": "d3eab51e",
   "metadata": {},
   "outputs": [
    {
     "name": "stdout",
     "output_type": "stream",
     "text": [
      "444444-444444-xxxxx카드로 1000원 결제합니다.\n",
      "결제 완료\n",
      "포인트가 부족합니다.\n",
      "포인트가 부족합니다.\n"
     ]
    }
   ],
   "source": [
    "process_payment(card_obj,1000)\n",
    "process_payment(reward_obj, 10000)\n",
    "process_payment(reward_obj, 40000)"
   ]
  },
  {
   "cell_type": "code",
   "execution_count": 124,
   "id": "49d63b64",
   "metadata": {},
   "outputs": [
    {
     "name": "stdout",
     "output_type": "stream",
     "text": [
      "Collecting numpy\n",
      "  Downloading numpy-2.3.3-cp311-cp311-win_amd64.whl.metadata (60 kB)\n",
      "     ---------------------------------------- 0.0/60.9 kB ? eta -:--:--\n",
      "     ------------ ------------------------- 20.5/60.9 kB 330.3 kB/s eta 0:00:01\n",
      "     -------------------------------------- 60.9/60.9 kB 649.9 kB/s eta 0:00:00\n",
      "Downloading numpy-2.3.3-cp311-cp311-win_amd64.whl (13.1 MB)\n",
      "   ---------------------------------------- 0.0/13.1 MB ? eta -:--:--\n",
      "    --------------------------------------- 0.2/13.1 MB 6.7 MB/s eta 0:00:02\n",
      "   - -------------------------------------- 0.6/13.1 MB 7.3 MB/s eta 0:00:02\n",
      "   --- ------------------------------------ 1.1/13.1 MB 8.4 MB/s eta 0:00:02\n",
      "   ---- ----------------------------------- 1.4/13.1 MB 8.3 MB/s eta 0:00:02\n",
      "   ----- ---------------------------------- 1.8/13.1 MB 8.3 MB/s eta 0:00:02\n",
      "   ------ --------------------------------- 2.2/13.1 MB 8.3 MB/s eta 0:00:02\n",
      "   -------- ------------------------------- 2.6/13.1 MB 8.4 MB/s eta 0:00:02\n",
      "   --------- ------------------------------ 3.1/13.1 MB 8.9 MB/s eta 0:00:02\n",
      "   ---------- ----------------------------- 3.6/13.1 MB 9.1 MB/s eta 0:00:02\n",
      "   ------------ --------------------------- 4.0/13.1 MB 9.1 MB/s eta 0:00:01\n",
      "   ------------- -------------------------- 4.4/13.1 MB 9.0 MB/s eta 0:00:01\n",
      "   -------------- ------------------------- 4.9/13.1 MB 9.2 MB/s eta 0:00:01\n",
      "   ---------------- ----------------------- 5.3/13.1 MB 9.2 MB/s eta 0:00:01\n",
      "   ----------------- ---------------------- 5.7/13.1 MB 9.3 MB/s eta 0:00:01\n",
      "   ------------------- -------------------- 6.2/13.1 MB 9.3 MB/s eta 0:00:01\n",
      "   -------------------- ------------------- 6.7/13.1 MB 9.3 MB/s eta 0:00:01\n",
      "   --------------------- ------------------ 7.2/13.1 MB 9.3 MB/s eta 0:00:01\n",
      "   ----------------------- ---------------- 7.6/13.1 MB 9.4 MB/s eta 0:00:01\n",
      "   ------------------------ --------------- 8.1/13.1 MB 9.4 MB/s eta 0:00:01\n",
      "   -------------------------- ------------- 8.5/13.1 MB 9.4 MB/s eta 0:00:01\n",
      "   --------------------------- ------------ 9.0/13.1 MB 9.4 MB/s eta 0:00:01\n",
      "   ---------------------------- ----------- 9.4/13.1 MB 9.4 MB/s eta 0:00:01\n",
      "   ----------------------------- ---------- 9.7/13.1 MB 9.4 MB/s eta 0:00:01\n",
      "   ------------------------------- -------- 10.3/13.1 MB 9.6 MB/s eta 0:00:01\n",
      "   -------------------------------- ------- 10.7/13.1 MB 9.6 MB/s eta 0:00:01\n",
      "   ---------------------------------- ----- 11.2/13.1 MB 9.8 MB/s eta 0:00:01\n",
      "   ----------------------------------- ---- 11.7/13.1 MB 9.8 MB/s eta 0:00:01\n",
      "   ------------------------------------- -- 12.1/13.1 MB 9.8 MB/s eta 0:00:01\n",
      "   -------------------------------------- - 12.6/13.1 MB 9.9 MB/s eta 0:00:01\n",
      "   ---------------------------------------  13.1/13.1 MB 9.9 MB/s eta 0:00:01\n",
      "   ---------------------------------------- 13.1/13.1 MB 9.5 MB/s eta 0:00:00\n",
      "Installing collected packages: numpy\n",
      "Successfully installed numpy-2.3.3\n"
     ]
    },
    {
     "name": "stderr",
     "output_type": "stream",
     "text": [
      "\n",
      "[notice] A new release of pip is available: 24.0 -> 25.2\n",
      "[notice] To update, run: python.exe -m pip install --upgrade pip\n"
     ]
    }
   ],
   "source": [
    "!pip install numpy"
   ]
  },
  {
   "cell_type": "code",
   "execution_count": 125,
   "id": "e95b5bfa",
   "metadata": {},
   "outputs": [],
   "source": [
    "import numpy"
   ]
  },
  {
   "cell_type": "code",
   "execution_count": 126,
   "id": "bdd38941",
   "metadata": {},
   "outputs": [
    {
     "name": "stdout",
     "output_type": "stream",
     "text": [
      "Collecting beautifulsoup4\n",
      "  Downloading beautifulsoup4-4.13.5-py3-none-any.whl.metadata (3.8 kB)\n",
      "Collecting soupsieve>1.2 (from beautifulsoup4)\n",
      "  Downloading soupsieve-2.8-py3-none-any.whl.metadata (4.6 kB)\n",
      "Requirement already satisfied: typing-extensions>=4.0.0 in c:\\users\\el061\\appdata\\roaming\\python\\python311\\site-packages (from beautifulsoup4) (4.15.0)\n",
      "Downloading beautifulsoup4-4.13.5-py3-none-any.whl (105 kB)\n",
      "   ---------------------------------------- 0.0/105.1 kB ? eta -:--:--\n",
      "   --- ------------------------------------ 10.2/105.1 kB ? eta -:--:--\n",
      "   ---------------------------------------- 105.1/105.1 kB 1.5 MB/s eta 0:00:00\n",
      "Downloading soupsieve-2.8-py3-none-any.whl (36 kB)\n",
      "Installing collected packages: soupsieve, beautifulsoup4\n",
      "Successfully installed beautifulsoup4-4.13.5 soupsieve-2.8\n"
     ]
    },
    {
     "name": "stderr",
     "output_type": "stream",
     "text": [
      "\n",
      "[notice] A new release of pip is available: 24.0 -> 25.2\n",
      "[notice] To update, run: python.exe -m pip install --upgrade pip\n"
     ]
    }
   ],
   "source": [
    "!pip install beautifulsoup4"
   ]
  },
  {
   "cell_type": "code",
   "execution_count": 127,
   "id": "0f674ac5",
   "metadata": {},
   "outputs": [
    {
     "ename": "ImportError",
     "evalue": "cannot import name 'BeautifulSoup4' from 'bs4' (c:\\Users\\EL061\\AppData\\Local\\Programs\\Python\\Python311\\Lib\\site-packages\\bs4\\__init__.py)",
     "output_type": "error",
     "traceback": [
      "\u001b[31m---------------------------------------------------------------------------\u001b[39m",
      "\u001b[31mImportError\u001b[39m                               Traceback (most recent call last)",
      "\u001b[36mCell\u001b[39m\u001b[36m \u001b[39m\u001b[32mIn[127]\u001b[39m\u001b[32m, line 1\u001b[39m\n\u001b[32m----> \u001b[39m\u001b[32m1\u001b[39m \u001b[38;5;28;01mfrom\u001b[39;00m\u001b[38;5;250m \u001b[39m\u001b[34;01mbs4\u001b[39;00m\u001b[38;5;250m \u001b[39m\u001b[38;5;28;01mimport\u001b[39;00m BeautifulSoup4\n",
      "\u001b[31mImportError\u001b[39m: cannot import name 'BeautifulSoup4' from 'bs4' (c:\\Users\\EL061\\AppData\\Local\\Programs\\Python\\Python311\\Lib\\site-packages\\bs4\\__init__.py)"
     ]
    }
   ],
   "source": [
    "from bs4 import BeautifulSoup4"
   ]
  },
  {
   "cell_type": "code",
   "execution_count": null,
   "id": "bca75507",
   "metadata": {},
   "outputs": [],
   "source": []
  }
 ],
 "metadata": {
  "kernelspec": {
   "display_name": "Python 3",
   "language": "python",
   "name": "python3"
  },
  "language_info": {
   "codemirror_mode": {
    "name": "ipython",
    "version": 3
   },
   "file_extension": ".py",
   "mimetype": "text/x-python",
   "name": "python",
   "nbconvert_exporter": "python",
   "pygments_lexer": "ipython3",
   "version": "3.11.8"
  }
 },
 "nbformat": 4,
 "nbformat_minor": 5
}
