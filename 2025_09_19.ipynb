{
 "cells": [
  {
   "cell_type": "code",
   "execution_count": 27,
   "id": "02944cb4",
   "metadata": {},
   "outputs": [
    {
     "name": "stdout",
     "output_type": "stream",
     "text": [
      "가격은 17500원 입니다.\n"
     ]
    }
   ],
   "source": [
    "#gimbob 3000 tteok 3500 ramen 2500\n",
    "a = int(input())\n",
    "b = int(input())\n",
    "c = int(input())\n",
    "order = (3000 * a) + (3500 * b) + (2500 * c)\n",
    "print(f\"가격은 {order}원 입니다.\") "
   ]
  },
  {
   "cell_type": "code",
   "execution_count": 28,
   "id": "3f323dc0",
   "metadata": {},
   "outputs": [
    {
     "name": "stdout",
     "output_type": "stream",
     "text": [
      "홀수입니다.\n"
     ]
    }
   ],
   "source": [
    "#홀수 짞수 구분\n",
    "\n",
    "num = int(input())\n",
    "\n",
    "if num % 2 == 0:\n",
    "    print(\"짝수입니다.\")\n",
    "else:\n",
    "    print(\"홀수입니다.\")"
   ]
  },
  {
   "cell_type": "code",
   "execution_count": 29,
   "id": "0472e98b",
   "metadata": {},
   "outputs": [
    {
     "name": "stdout",
     "output_type": "stream",
     "text": [
      "F\n"
     ]
    }
   ],
   "source": [
    "#점수 90이사 a  80~90 b \n",
    "\n",
    "score = int(input())\n",
    "if score >= 90 :\n",
    "    print(\"A\")\n",
    "elif 80 <= score <90 :\n",
    "    print(\"B\")\n",
    "elif 70 <= score < 80 :\n",
    "    print(\"C\")\n",
    "elif 60 <= score < 70 :\n",
    "    print(\"D\")\n",
    "else:\n",
    "    print(\"F\")"
   ]
  },
  {
   "cell_type": "code",
   "execution_count": 30,
   "id": "0e3e79b3",
   "metadata": {},
   "outputs": [
    {
     "name": "stdout",
     "output_type": "stream",
     "text": [
      "sleep\n",
      "sleep\n",
      "sleep\n",
      "sleep\n",
      "sleep\n",
      "sleep\n",
      "sleep\n",
      "sleep\n",
      "sleep\n",
      "sleep\n"
     ]
    }
   ],
   "source": [
    "for i in range(10):\n",
    "    print(\"sleep\")"
   ]
  },
  {
   "cell_type": "code",
   "execution_count": 33,
   "id": "40c42c1a",
   "metadata": {},
   "outputs": [
    {
     "name": "stdout",
     "output_type": "stream",
     "text": [
      "55\n"
     ]
    }
   ],
   "source": [
    "#for / range 써서 1~10 합을 출력\n",
    "result = 0\n",
    "for i in range(1,11):\n",
    "    result += i\n",
    "print(result)\n"
   ]
  },
  {
   "cell_type": "code",
   "execution_count": 35,
   "id": "f99ab9b8",
   "metadata": {},
   "outputs": [
    {
     "name": "stdout",
     "output_type": "stream",
     "text": [
      "3628800\n"
     ]
    }
   ],
   "source": [
    "result = 1\n",
    "for i in range(1,11):\n",
    "    result *= i\n",
    "print(result)"
   ]
  },
  {
   "cell_type": "code",
   "execution_count": 36,
   "id": "333e210a",
   "metadata": {},
   "outputs": [
    {
     "name": "stdout",
     "output_type": "stream",
     "text": [
      "9\n",
      "18\n",
      "27\n",
      "36\n",
      "45\n",
      "54\n",
      "63\n",
      "72\n",
      "81\n"
     ]
    }
   ],
   "source": [
    "#for 반복문으로 사용자로부터 입력받은 수를 이용한 구구단.\n",
    "\n",
    "num = int(input())\n",
    "for i in range(1,10):\n",
    "    print(num * i)\n",
    "\n",
    "\n"
   ]
  },
  {
   "cell_type": "code",
   "execution_count": 40,
   "id": "61567470",
   "metadata": {},
   "outputs": [
    {
     "name": "stdout",
     "output_type": "stream",
     "text": [
      "1번째 hello\n",
      "2번째 hello\n",
      "3번째 hello\n",
      "4번째 hello\n",
      "5번째 hello\n"
     ]
    }
   ],
   "source": [
    "i = 1\n",
    "while i <=5:\n",
    "    print(f\"{i}번째 hello\")\n",
    "    i=i+1"
   ]
  },
  {
   "cell_type": "code",
   "execution_count": null,
   "id": "dc8280d1",
   "metadata": {},
   "outputs": [
    {
     "name": "stdout",
     "output_type": "stream",
     "text": [
      "45\n"
     ]
    }
   ],
   "source": [
    "#while 문을 이용하여 1부터 입력받은 정수의 합\n",
    "\n",
    "n = int(input())\n",
    "result = 0\n",
    "i = 1\n",
    "\n",
    "while i <= n:\n",
    "    result += i\n",
    "    i += 1 #### 이 부분이 있어야 루프가 끝남\n",
    "print(result)\n"
   ]
  },
  {
   "cell_type": "code",
   "execution_count": 42,
   "id": "de5d7820",
   "metadata": {},
   "outputs": [
    {
     "name": "stdout",
     "output_type": "stream",
     "text": [
      "5040\n"
     ]
    }
   ],
   "source": [
    "n = int(input())\n",
    "result = 1\n",
    "i = 1\n",
    "\n",
    "while i <= n:\n",
    "    result *= i\n",
    "    i += 1\n",
    "print(result)"
   ]
  },
  {
   "cell_type": "code",
   "execution_count": 48,
   "id": "b331c390",
   "metadata": {},
   "outputs": [
    {
     "name": "stdout",
     "output_type": "stream",
     "text": [
      "9\n",
      "18\n",
      "27\n",
      "36\n",
      "45\n",
      "54\n",
      "63\n",
      "72\n",
      "81\n"
     ]
    }
   ],
   "source": [
    "num = int(input())\n",
    "i = 1\n",
    "while i <= 9:\n",
    "    print(num * i)\n",
    "    i += 1"
   ]
  },
  {
   "cell_type": "code",
   "execution_count": 52,
   "id": "2579d654",
   "metadata": {},
   "outputs": [
    {
     "name": "stdout",
     "output_type": "stream",
     "text": [
      "up!\n",
      "up!\n",
      "up!\n",
      "up!\n",
      "up!\n",
      "up!\n",
      "up!\n",
      "up!\n",
      "up!\n",
      "down\n",
      "down\n",
      "down\n",
      "correct!\n"
     ]
    }
   ],
   "source": [
    "import random\n",
    "\n",
    "answer = random.randint(1,100)\n",
    "\n",
    "num = int(input())\n",
    "i = 1\n",
    "while i <= 100: \n",
    "    num = int(input())\n",
    "    if num < answer:\n",
    "        print(\"up!\")\n",
    "    elif num > answer:\n",
    "        print(\"down\")\n",
    "    else:\n",
    "        print(\"correct!\")\n",
    "        break"
   ]
  },
  {
   "cell_type": "code",
   "execution_count": 53,
   "id": "1a7e3595",
   "metadata": {},
   "outputs": [
    {
     "name": "stdout",
     "output_type": "stream",
     "text": [
      "down\n",
      "down\n",
      "down\n",
      "down\n",
      "down\n",
      "down\n",
      "up\n",
      "up\n",
      "up\n",
      "up\n",
      "up\n",
      "up\n",
      "up\n",
      "correct!\n",
      "game over\n"
     ]
    }
   ],
   "source": [
    "import random\n",
    "answer = random.randint(1,100)\n",
    "while True:\n",
    "    guess = int(input())\n",
    "    if guess == answer:\n",
    "        print(\"correct!\")\n",
    "        break\n",
    "    elif guess > answer:\n",
    "        print(\"down\")\n",
    "    else:\n",
    "        print(\"up\")\n",
    "print(\"game over\")"
   ]
  },
  {
   "cell_type": "code",
   "execution_count": 55,
   "id": "8bec7f22",
   "metadata": {},
   "outputs": [
    {
     "name": "stdout",
     "output_type": "stream",
     "text": [
      "3\n",
      "6\n",
      "9\n",
      "12\n",
      "18\n"
     ]
    }
   ],
   "source": [
    "# 20보다 작은 정수중에서 3의배수와 5의배수를 제외하고 출력하라. while True, break, continue.\n",
    "\n",
    "i = 1\n",
    "while True: \n",
    "    if i >= 20:\n",
    "        break\n",
    "    if i % 3 or i % 5 == 0:\n",
    "        i += 1\n",
    "        continue\n",
    "    print(i)\n",
    "    i += 1\n"
   ]
  },
  {
   "cell_type": "code",
   "execution_count": 59,
   "id": "872806a8",
   "metadata": {},
   "outputs": [
    {
     "name": "stdout",
     "output_type": "stream",
     "text": [
      "1\n",
      "2\n",
      "4\n",
      "7\n",
      "8\n",
      "11\n",
      "13\n",
      "14\n",
      "16\n",
      "17\n",
      "19\n"
     ]
    }
   ],
   "source": [
    "i = 1\n",
    "while True:\n",
    "    if i > 20:\n",
    "        break\n",
    "    if i % 3 == 0 or i % 5 == 0:\n",
    "        i += 1\n",
    "        continue\n",
    "    print(i)\n",
    "    i += 1\n",
    "    "
   ]
  },
  {
   "cell_type": "code",
   "execution_count": 61,
   "id": "35254cb1",
   "metadata": {},
   "outputs": [
    {
     "name": "stdout",
     "output_type": "stream",
     "text": [
      "1\n",
      "2\n",
      "4\n",
      "7\n",
      "8\n",
      "11\n",
      "13\n",
      "14\n",
      "16\n",
      "17\n",
      "19\n"
     ]
    }
   ],
   "source": [
    "for i in range (1,21):\n",
    "    if i % 3 == 0 or  i % 5 == 0:\n",
    "        continue\n",
    "    print(i)"
   ]
  },
  {
   "cell_type": "code",
   "execution_count": 62,
   "id": "e0efef6a",
   "metadata": {},
   "outputs": [
    {
     "name": "stdout",
     "output_type": "stream",
     "text": [
      "1\n",
      "2\n",
      "4\n",
      "7\n",
      "8\n",
      "11\n",
      "13\n",
      "14\n",
      "16\n",
      "17\n",
      "19\n"
     ]
    }
   ],
   "source": [
    "i = 1\n",
    "while True:\n",
    "    if i > 20:\n",
    "        break\n",
    "    if i % 3 == 0 or i % 5 == 0:\n",
    "        i += 1\n",
    "        continue\n",
    "    print(i)\n",
    "    i += 1"
   ]
  },
  {
   "cell_type": "code",
   "execution_count": 63,
   "id": "f80daff9",
   "metadata": {},
   "outputs": [
    {
     "name": "stdout",
     "output_type": "stream",
     "text": [
      "2 * 1 = 2\n",
      "2 * 2 = 4\n",
      "2 * 3 = 6\n",
      "2 * 4 = 8\n",
      "2 * 5 = 10\n",
      "2 * 6 = 12\n",
      "2 * 7 = 14\n",
      "2 * 8 = 16\n",
      "2 * 9 = 18\n",
      "3 * 1 = 3\n",
      "3 * 2 = 6\n",
      "3 * 3 = 9\n",
      "3 * 4 = 12\n",
      "3 * 5 = 15\n",
      "3 * 6 = 18\n",
      "3 * 7 = 21\n",
      "3 * 8 = 24\n",
      "3 * 9 = 27\n",
      "4 * 1 = 4\n",
      "4 * 2 = 8\n",
      "4 * 3 = 12\n",
      "4 * 4 = 16\n",
      "4 * 5 = 20\n",
      "4 * 6 = 24\n",
      "4 * 7 = 28\n",
      "4 * 8 = 32\n",
      "4 * 9 = 36\n",
      "5 * 1 = 5\n",
      "5 * 2 = 10\n",
      "5 * 3 = 15\n",
      "5 * 4 = 20\n",
      "5 * 5 = 25\n",
      "5 * 6 = 30\n",
      "5 * 7 = 35\n",
      "5 * 8 = 40\n",
      "5 * 9 = 45\n",
      "6 * 1 = 6\n",
      "6 * 2 = 12\n",
      "6 * 3 = 18\n",
      "6 * 4 = 24\n",
      "6 * 5 = 30\n",
      "6 * 6 = 36\n",
      "6 * 7 = 42\n",
      "6 * 8 = 48\n",
      "6 * 9 = 54\n",
      "7 * 1 = 7\n",
      "7 * 2 = 14\n",
      "7 * 3 = 21\n",
      "7 * 4 = 28\n",
      "7 * 5 = 35\n",
      "7 * 6 = 42\n",
      "7 * 7 = 49\n",
      "7 * 8 = 56\n",
      "7 * 9 = 63\n",
      "8 * 1 = 8\n",
      "8 * 2 = 16\n",
      "8 * 3 = 24\n",
      "8 * 4 = 32\n",
      "8 * 5 = 40\n",
      "8 * 6 = 48\n",
      "8 * 7 = 56\n",
      "8 * 8 = 64\n",
      "8 * 9 = 72\n",
      "9 * 1 = 9\n",
      "9 * 2 = 18\n",
      "9 * 3 = 27\n",
      "9 * 4 = 36\n",
      "9 * 5 = 45\n",
      "9 * 6 = 54\n",
      "9 * 7 = 63\n",
      "9 * 8 = 72\n",
      "9 * 9 = 81\n"
     ]
    }
   ],
   "source": [
    "for dan in range(2,10):\n",
    "    for i in range(1,10):\n",
    "        print(f\"{dan} * {i} = {dan * i}\")"
   ]
  },
  {
   "cell_type": "code",
   "execution_count": 69,
   "id": "ef275736",
   "metadata": {},
   "outputs": [
    {
     "name": "stdout",
     "output_type": "stream",
     "text": [
      "*\n",
      "**\n",
      "***\n",
      "****\n",
      "*****\n",
      "******\n",
      "*******\n",
      "********\n",
      "*********\n",
      "**********\n"
     ]
    }
   ],
   "source": [
    "for i in range(10):\n",
    "    for j in range(i+1):\n",
    "        print(\"*\", end=\"\")\n",
    "    print()"
   ]
  },
  {
   "cell_type": "code",
   "execution_count": 76,
   "id": "28acc68c",
   "metadata": {},
   "outputs": [
    {
     "name": "stdout",
     "output_type": "stream",
     "text": [
      "         *\n",
      "        ***\n",
      "       *****\n",
      "      *******\n",
      "     *********\n",
      "    ***********\n",
      "   *************\n",
      "  ***************\n",
      " *****************\n",
      "*******************\n"
     ]
    }
   ],
   "source": [
    "n = 10\n",
    "for i in range(1,n+1):\n",
    "    print(\" \" * (n-i) + \"*\" * (2*i-1))"
   ]
  },
  {
   "cell_type": "code",
   "execution_count": 80,
   "id": "01429feb",
   "metadata": {},
   "outputs": [
    {
     "name": "stdout",
     "output_type": "stream",
     "text": [
      "                    \n",
      "                   @\n",
      "                  @@@\n",
      "                 @@@@@\n",
      "                @@@@@@@\n",
      "               @@@@@@@@@\n",
      "              @@@@@@@@@@@\n",
      "             @@@@@@@@@@@@@\n",
      "            @@@@@@@@@@@@@@@\n",
      "           @@@@@@@@@@@@@@@@@\n",
      "          @@@@@@@@@@@@@@@@@@@\n",
      "         @@@@@@@@@@@@@@@@@@@@@\n",
      "        @@@@@@@@@@@@@@@@@@@@@@@\n",
      "       @@@@@@@@@@@@@@@@@@@@@@@@@\n",
      "      @@@@@@@@@@@@@@@@@@@@@@@@@@@\n",
      "     @@@@@@@@@@@@@@@@@@@@@@@@@@@@@\n",
      "    @@@@@@@@@@@@@@@@@@@@@@@@@@@@@@@\n",
      "   @@@@@@@@@@@@@@@@@@@@@@@@@@@@@@@@@\n",
      "  @@@@@@@@@@@@@@@@@@@@@@@@@@@@@@@@@@@\n",
      " @@@@@@@@@@@@@@@@@@@@@@@@@@@@@@@@@@@@@\n"
     ]
    }
   ],
   "source": [
    "n = 20\n",
    "for i in range(n):\n",
    "    print(\" \" * (n-i) + \"@\" *(2*i-1))"
   ]
  },
  {
   "cell_type": "code",
   "execution_count": 82,
   "id": "386abc56",
   "metadata": {},
   "outputs": [
    {
     "name": "stdout",
     "output_type": "stream",
     "text": [
      "                   \n",
      "                  *\n",
      "                 ***\n",
      "                *****\n",
      "               *******\n",
      "              *********\n",
      "             ***********\n",
      "            *************\n",
      "           ***************\n",
      "          *****************\n",
      "         *******************\n",
      "        *********************\n",
      "       ***********************\n",
      "      *************************\n",
      "     ***************************\n",
      "    *****************************\n",
      "   *******************************\n",
      "  *********************************\n",
      " ***********************************\n"
     ]
    }
   ],
   "source": [
    "n = 19\n",
    "for i in range(n):\n",
    "    print(\" \" * (n-i) + \"*\" *(2*i-1))"
   ]
  },
  {
   "cell_type": "code",
   "execution_count": null,
   "id": "c5171ab1",
   "metadata": {},
   "outputs": [],
   "source": []
  }
 ],
 "metadata": {
  "kernelspec": {
   "display_name": "Python 3",
   "language": "python",
   "name": "python3"
  },
  "language_info": {
   "codemirror_mode": {
    "name": "ipython",
    "version": 3
   },
   "file_extension": ".py",
   "mimetype": "text/x-python",
   "name": "python",
   "nbconvert_exporter": "python",
   "pygments_lexer": "ipython3",
   "version": "3.11.8"
  }
 },
 "nbformat": 4,
 "nbformat_minor": 5
}
