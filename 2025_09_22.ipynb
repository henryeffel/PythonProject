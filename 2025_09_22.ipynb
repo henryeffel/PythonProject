{
 "cells": [
  {
   "cell_type": "code",
   "execution_count": 10,
   "id": "4da89e96",
   "metadata": {},
   "outputs": [
    {
     "name": "stdout",
     "output_type": "stream",
     "text": [
      "(i = 0, j = 0)\n",
      "(i = 0, j = 1)\n",
      "(i = 0, j = 2)\n",
      "(i = 0, j = 3)\n",
      "(i = 0, j = 4)\n",
      "(i = 1, j = 0)\n",
      "(i = 1, j = 1)\n",
      "(i = 1, j = 2)\n",
      "(i = 1, j = 3)\n",
      "(i = 1, j = 4)\n",
      "(i = 2, j = 0)\n",
      "(i = 2, j = 1)\n",
      "(i = 2, j = 2)\n",
      "(i = 2, j = 3)\n",
      "0\n"
     ]
    }
   ],
   "source": [
    "number = 0\n",
    "for i in range(5):\n",
    "    for j in range(5):\n",
    "        print(f\"(i = {i}, j = {j})\")\n",
    "        if i == 2 and j == 3:\n",
    "            break\n",
    "    if i == 2 and j == 3:\n",
    "        break\n",
    "        \n",
    "            \n",
    "print(number)\n"
   ]
  },
  {
   "cell_type": "code",
   "execution_count": 23,
   "id": "a4db8548",
   "metadata": {},
   "outputs": [
    {
     "name": "stdout",
     "output_type": "stream",
     "text": [
      "          \n",
      "         *\n",
      "        ***\n",
      "       *****\n",
      "      *******\n",
      "     *********\n",
      "    ***********\n",
      "   *************\n",
      "  ***************\n",
      " *****************\n"
     ]
    }
   ],
   "source": [
    "### 사용자로부터 n개의 별의 갯수를 입력받은 뒤, \n",
    "# 별을 출력하되 별의 갯수만큼 출력하다가 별이 소진되면 멈추는 코드 작성.\n",
    "\n",
    "n = 10\n",
    "for i  in range(n):\n",
    "    stars = [\"*\"]\n",
    "    print(\" \" *(n-i) + \"*\" *(2*i-1))\n",
    "    if len(stars) > n:\n",
    "        break\n"
   ]
  },
  {
   "cell_type": "code",
   "execution_count": 36,
   "id": "78a3cd77",
   "metadata": {},
   "outputs": [
    {
     "name": "stdout",
     "output_type": "stream",
     "text": [
      "*\n",
      "**\n",
      "***\n",
      "****\n",
      "*****\n",
      "******\n",
      "*******\n",
      "********\n",
      "*********\n",
      "**********\n"
     ]
    }
   ],
   "source": [
    "n = 10\n",
    "for i in range(n):\n",
    "    for j in range(i+1):\n",
    "        print(\"*\", end=\"\")\n",
    "    print()\n",
    "    if i+1 > n:\n",
    "        break\n",
    "    "
   ]
  },
  {
   "cell_type": "code",
   "execution_count": 38,
   "id": "dbe6c3ff",
   "metadata": {},
   "outputs": [
    {
     "name": "stdout",
     "output_type": "stream",
     "text": [
      "*\n",
      "**\n",
      "***\n",
      "****\n",
      "*****\n",
      "******\n",
      "*******\n",
      "**"
     ]
    }
   ],
   "source": [
    "n = 30\n",
    "\n",
    "star = 0\n",
    "break_all = False\n",
    "\n",
    "for i in range(1,10+1):\n",
    "    for j in range(i):\n",
    "        star += 1\n",
    "        if star > n:\n",
    "            break_all = True\n",
    "            break\n",
    "        print(\"*\", end=\"\")\n",
    "    if break_all:\n",
    "        break\n",
    "    print()"
   ]
  },
  {
   "cell_type": "code",
   "execution_count": 39,
   "id": "5b4cbc10",
   "metadata": {},
   "outputs": [
    {
     "name": "stdout",
     "output_type": "stream",
     "text": [
      "p\n"
     ]
    }
   ],
   "source": [
    "my_Str = \"hello, python\"\n",
    "print(my_Str[7])"
   ]
  },
  {
   "cell_type": "code",
   "execution_count": 40,
   "id": "4466d109",
   "metadata": {},
   "outputs": [
    {
     "data": {
      "text/plain": [
       "'hello, python'"
      ]
     },
     "execution_count": 40,
     "metadata": {},
     "output_type": "execute_result"
    }
   ],
   "source": [
    "#문자열 데이터의 여러가지 기능들.\n",
    "my_str = \"hello, python\"\n",
    "\n",
    "my_str.lower()"
   ]
  },
  {
   "cell_type": "code",
   "execution_count": 41,
   "id": "572ebaf2",
   "metadata": {},
   "outputs": [
    {
     "data": {
      "text/plain": [
       "'HELLO, PYTHON'"
      ]
     },
     "execution_count": 41,
     "metadata": {},
     "output_type": "execute_result"
    }
   ],
   "source": [
    "my_str.upper()"
   ]
  },
  {
   "cell_type": "code",
   "execution_count": 46,
   "id": "9b50909c",
   "metadata": {},
   "outputs": [
    {
     "name": "stdout",
     "output_type": "stream",
     "text": [
      "['hello', ' python']\n"
     ]
    }
   ],
   "source": [
    "words =my_Str.split(\",\")\n",
    "print(words)"
   ]
  },
  {
   "cell_type": "code",
   "execution_count": 48,
   "id": "71f4dda8",
   "metadata": {},
   "outputs": [
    {
     "ename": "TypeError",
     "evalue": "int() argument must be a string, a bytes-like object or a real number, not 'list'",
     "output_type": "error",
     "traceback": [
      "\u001b[31m---------------------------------------------------------------------------\u001b[39m",
      "\u001b[31mTypeError\u001b[39m                                 Traceback (most recent call last)",
      "\u001b[36mCell\u001b[39m\u001b[36m \u001b[39m\u001b[32mIn[48]\u001b[39m\u001b[32m, line 1\u001b[39m\n\u001b[32m----> \u001b[39m\u001b[32m1\u001b[39m a,b = \u001b[38;5;28;43mint\u001b[39;49m\u001b[43m(\u001b[49m\u001b[38;5;28;43minput\u001b[39;49m\u001b[43m(\u001b[49m\u001b[43m)\u001b[49m\u001b[43m.\u001b[49m\u001b[43msplit\u001b[49m\u001b[43m(\u001b[49m\u001b[43m)\u001b[49m\u001b[43m)\u001b[49m\n\u001b[32m      2\u001b[39m \u001b[38;5;28mprint\u001b[39m(a,b)\n",
      "\u001b[31mTypeError\u001b[39m: int() argument must be a string, a bytes-like object or a real number, not 'list'"
     ]
    }
   ],
   "source": [
    "a,b = int(input().split())\n",
    "print(a,b)"
   ]
  },
  {
   "cell_type": "code",
   "execution_count": 49,
   "id": "d5ffe891",
   "metadata": {},
   "outputs": [],
   "source": [
    "numbers = [1,2,3,4,5]"
   ]
  },
  {
   "cell_type": "code",
   "execution_count": 50,
   "id": "3c9e7839",
   "metadata": {},
   "outputs": [
    {
     "data": {
      "text/plain": [
       "list"
      ]
     },
     "execution_count": 50,
     "metadata": {},
     "output_type": "execute_result"
    }
   ],
   "source": [
    "type(numbers)"
   ]
  },
  {
   "cell_type": "code",
   "execution_count": 51,
   "id": "3215480e",
   "metadata": {},
   "outputs": [],
   "source": [
    "fruits = [\"apple, banana, orange\"]"
   ]
  },
  {
   "cell_type": "code",
   "execution_count": 62,
   "id": "d9523e10",
   "metadata": {},
   "outputs": [
    {
     "name": "stdout",
     "output_type": "stream",
     "text": [
      "['apple, banana, orange']\n"
     ]
    }
   ],
   "source": [
    "print(fruits[:1])"
   ]
  },
  {
   "cell_type": "code",
   "execution_count": 63,
   "id": "b822868c",
   "metadata": {},
   "outputs": [
    {
     "data": {
      "text/plain": [
       "'apple, banana, orange'"
      ]
     },
     "execution_count": 63,
     "metadata": {},
     "output_type": "execute_result"
    }
   ],
   "source": [
    "fruits[0]"
   ]
  },
  {
   "cell_type": "code",
   "execution_count": 64,
   "id": "60849507",
   "metadata": {},
   "outputs": [
    {
     "ename": "AttributeError",
     "evalue": "'list' object has no attribute 'split'",
     "output_type": "error",
     "traceback": [
      "\u001b[31m---------------------------------------------------------------------------\u001b[39m",
      "\u001b[31mAttributeError\u001b[39m                            Traceback (most recent call last)",
      "\u001b[36mCell\u001b[39m\u001b[36m \u001b[39m\u001b[32mIn[64]\u001b[39m\u001b[32m, line 1\u001b[39m\n\u001b[32m----> \u001b[39m\u001b[32m1\u001b[39m \u001b[43mfruits\u001b[49m\u001b[43m.\u001b[49m\u001b[43msplit\u001b[49m()\n",
      "\u001b[31mAttributeError\u001b[39m: 'list' object has no attribute 'split'"
     ]
    }
   ],
   "source": [
    "fruits.split()"
   ]
  },
  {
   "cell_type": "code",
   "execution_count": 65,
   "id": "ea5d50f7",
   "metadata": {},
   "outputs": [],
   "source": [
    "numbers.sort(reverse=True)"
   ]
  },
  {
   "cell_type": "code",
   "execution_count": 66,
   "id": "8e93f806",
   "metadata": {},
   "outputs": [
    {
     "ename": "NameError",
     "evalue": "name 'numers' is not defined",
     "output_type": "error",
     "traceback": [
      "\u001b[31m---------------------------------------------------------------------------\u001b[39m",
      "\u001b[31mNameError\u001b[39m                                 Traceback (most recent call last)",
      "\u001b[36mCell\u001b[39m\u001b[36m \u001b[39m\u001b[32mIn[66]\u001b[39m\u001b[32m, line 1\u001b[39m\n\u001b[32m----> \u001b[39m\u001b[32m1\u001b[39m \u001b[43mnumers\u001b[49m\n",
      "\u001b[31mNameError\u001b[39m: name 'numers' is not defined"
     ]
    }
   ],
   "source": [
    "numers"
   ]
  },
  {
   "cell_type": "code",
   "execution_count": 67,
   "id": "f078e5c0",
   "metadata": {},
   "outputs": [
    {
     "name": "stdout",
     "output_type": "stream",
     "text": [
      "[5, 4, 3, 2, 1]\n"
     ]
    }
   ],
   "source": [
    "print(numbers)"
   ]
  },
  {
   "cell_type": "code",
   "execution_count": 76,
   "id": "e5cfb03e",
   "metadata": {},
   "outputs": [
    {
     "data": {
      "text/plain": [
       "[2, 4, 6, 8, 10]"
      ]
     },
     "execution_count": 76,
     "metadata": {},
     "output_type": "execute_result"
    }
   ],
   "source": [
    "number4 = [i for i in range(1,10+1) if i % 2 == 0]\n",
    "number4"
   ]
  },
  {
   "cell_type": "code",
   "execution_count": 74,
   "id": "79155684",
   "metadata": {},
   "outputs": [
    {
     "data": {
      "text/plain": [
       "[0, 1, 4, 9, 16, 25, 36, 49, 64, 81]"
      ]
     },
     "execution_count": 74,
     "metadata": {},
     "output_type": "execute_result"
    }
   ],
   "source": [
    "number4"
   ]
  },
  {
   "cell_type": "code",
   "execution_count": 72,
   "id": "3e779935",
   "metadata": {},
   "outputs": [
    {
     "ename": "AttributeError",
     "evalue": "'list' object has no attribute 'apprnd'",
     "output_type": "error",
     "traceback": [
      "\u001b[31m---------------------------------------------------------------------------\u001b[39m",
      "\u001b[31mAttributeError\u001b[39m                            Traceback (most recent call last)",
      "\u001b[36mCell\u001b[39m\u001b[36m \u001b[39m\u001b[32mIn[72]\u001b[39m\u001b[32m, line 3\u001b[39m\n\u001b[32m      1\u001b[39m num_list = []\n\u001b[32m      2\u001b[39m \u001b[38;5;28;01mfor\u001b[39;00m i \u001b[38;5;129;01min\u001b[39;00m \u001b[38;5;28mrange\u001b[39m(\u001b[32m10\u001b[39m):\n\u001b[32m----> \u001b[39m\u001b[32m3\u001b[39m     \u001b[43mnum_list\u001b[49m\u001b[43m.\u001b[49m\u001b[43mapprnd\u001b[49m(i)\n\u001b[32m      4\u001b[39m num_list\n",
      "\u001b[31mAttributeError\u001b[39m: 'list' object has no attribute 'apprnd'"
     ]
    }
   ],
   "source": [
    "num_list = []\n",
    "for i in range(10):\n",
    "    num_list.apprnd(i)\n",
    "num_list\n"
   ]
  },
  {
   "cell_type": "code",
   "execution_count": 78,
   "id": "bae3ab55",
   "metadata": {},
   "outputs": [
    {
     "name": "stdout",
     "output_type": "stream",
     "text": [
      "pass\n",
      "fail\n",
      "pass\n",
      "fail\n",
      "pass\n",
      "80\n"
     ]
    }
   ],
   "source": [
    "marks = [90,25,67,45,80]\n",
    "\n",
    "for i in range (len(marks)):\n",
    "    if marks[i] >= 60:\n",
    "        print(\"pass\")\n",
    "    else:\n",
    "        print(\"fail\")\n",
    "print(marks[i])"
   ]
  },
  {
   "cell_type": "code",
   "execution_count": 79,
   "id": "cdb9d959",
   "metadata": {},
   "outputs": [
    {
     "name": "stdout",
     "output_type": "stream",
     "text": [
      "90\n",
      "25\n",
      "67\n",
      "45\n",
      "80\n"
     ]
    }
   ],
   "source": [
    "marks = [90,25,67,45,80]\n",
    "\n",
    "for i in marks:\n",
    "    print(i)"
   ]
  },
  {
   "cell_type": "code",
   "execution_count": null,
   "id": "5c7e85e1",
   "metadata": {},
   "outputs": [
    {
     "name": "stdout",
     "output_type": "stream",
     "text": [
      "끝말잇기 게임\n",
      "시작\n",
      "가나다\n"
     ]
    }
   ],
   "source": [
    "#끝말잇기\n",
    "print(\"끝말잇기 게임\")\n",
    "print(\"시작\")\n",
    "var = \"가나다\"\n",
    "word = [input(\"단어를 입력해주세요\")]\n",
    "while True:\n",
    "    \n",
    "\n",
    "\n",
    "print(var)"
   ]
  },
  {
   "cell_type": "code",
   "execution_count": 88,
   "id": "ca5aa6bd",
   "metadata": {},
   "outputs": [
    {
     "name": "stdout",
     "output_type": "stream",
     "text": [
      "다람쥐\n",
      "쥐포\n",
      "땡\n"
     ]
    }
   ],
   "source": [
    "var = \"가나다\"\n",
    "while True:\n",
    "    answer = input(\"단어를 입력:\")\n",
    "    print(answer)\n",
    "    if answer[0] == var[-1]:\n",
    "        var == answer\n",
    "    else:\n",
    "        print(\"땡\")\n",
    "        break"
   ]
  },
  {
   "cell_type": "code",
   "execution_count": 102,
   "id": "95efe4ac",
   "metadata": {},
   "outputs": [
    {
     "name": "stdout",
     "output_type": "stream",
     "text": [
      "[4, 3]\n"
     ]
    }
   ],
   "source": [
    "numberss = [4,4,4,3,3]\n",
    "result = []\n",
    "for i in range(len(numberss)-1):\n",
    "    if numberss[i] != numberss[i+1]:\n",
    "        result.append(numberss[i])\n",
    "        #i가 마지막 인덱스일 때 i+1이 없으니 돌지 않습니다.\n",
    "if numberss:\n",
    "    result.append(numberss[-1])\n",
    "print(result) \n",
    "\n"
   ]
  },
  {
   "cell_type": "code",
   "execution_count": 93,
   "id": "30d53fde",
   "metadata": {},
   "outputs": [
    {
     "name": "stdout",
     "output_type": "stream",
     "text": [
      "[1, 3, 0, 1]\n"
     ]
    }
   ],
   "source": [
    "numberss = [1,1,3,3,0,1,1]\n",
    "result = []\n",
    "prev = None\n",
    "for num in numberss:\n",
    "    if num != prev:\n",
    "        result.append(num)\n",
    "    prev = num\n",
    "\n",
    "print(result)  "
   ]
  },
  {
   "cell_type": "code",
   "execution_count": 103,
   "id": "64e2ff74",
   "metadata": {},
   "outputs": [],
   "source": [
    "#딕셔너리#"
   ]
  },
  {
   "cell_type": "code",
   "execution_count": 106,
   "id": "392ee991",
   "metadata": {},
   "outputs": [],
   "source": [
    "student = {\"name\" : \"jimin\", \"age\":29, \"hobby\": \"gmae\"}"
   ]
  },
  {
   "cell_type": "code",
   "execution_count": 107,
   "id": "dbca5459",
   "metadata": {},
   "outputs": [
    {
     "data": {
      "text/plain": [
       "dict"
      ]
     },
     "execution_count": 107,
     "metadata": {},
     "output_type": "execute_result"
    }
   ],
   "source": [
    "type(student)"
   ]
  },
  {
   "cell_type": "code",
   "execution_count": 109,
   "id": "aeb2f9c4",
   "metadata": {},
   "outputs": [
    {
     "ename": "TypeError",
     "evalue": "int() argument must be a string, a bytes-like object or a real number, not 'list'",
     "output_type": "error",
     "traceback": [
      "\u001b[31m---------------------------------------------------------------------------\u001b[39m",
      "\u001b[31mTypeError\u001b[39m                                 Traceback (most recent call last)",
      "\u001b[36mCell\u001b[39m\u001b[36m \u001b[39m\u001b[32mIn[109]\u001b[39m\u001b[32m, line 15\u001b[39m\n\u001b[32m      1\u001b[39m morse = { \n\u001b[32m      2\u001b[39m \n\u001b[32m      3\u001b[39m     \u001b[33m'\u001b[39m\u001b[33m.-\u001b[39m\u001b[33m'\u001b[39m:\u001b[33m'\u001b[39m\u001b[33ma\u001b[39m\u001b[33m'\u001b[39m,\u001b[33m'\u001b[39m\u001b[33m-...\u001b[39m\u001b[33m'\u001b[39m:\u001b[33m'\u001b[39m\u001b[33mb\u001b[39m\u001b[33m'\u001b[39m,\u001b[33m'\u001b[39m\u001b[33m-.-.\u001b[39m\u001b[33m'\u001b[39m:\u001b[33m'\u001b[39m\u001b[33mc\u001b[39m\u001b[33m'\u001b[39m,\u001b[33m'\u001b[39m\u001b[33m-..\u001b[39m\u001b[33m'\u001b[39m:\u001b[33m'\u001b[39m\u001b[33md\u001b[39m\u001b[33m'\u001b[39m,\u001b[33m'\u001b[39m\u001b[33m.\u001b[39m\u001b[33m'\u001b[39m:\u001b[33m'\u001b[39m\u001b[33me\u001b[39m\u001b[33m'\u001b[39m,\u001b[33m'\u001b[39m\u001b[33m..-.\u001b[39m\u001b[33m'\u001b[39m:\u001b[33m'\u001b[39m\u001b[33mf\u001b[39m\u001b[33m'\u001b[39m, \n\u001b[32m   (...)\u001b[39m\u001b[32m     12\u001b[39m \n\u001b[32m     13\u001b[39m } \n\u001b[32m---> \u001b[39m\u001b[32m15\u001b[39m n = \u001b[38;5;28;43mint\u001b[39;49m\u001b[43m(\u001b[49m\u001b[38;5;28;43minput\u001b[39;49m\u001b[43m(\u001b[49m\u001b[43m)\u001b[49m\u001b[43m.\u001b[49m\u001b[43msplit\u001b[49m\u001b[43m(\u001b[49m\u001b[43m)\u001b[49m\u001b[43m)\u001b[49m\n\u001b[32m     16\u001b[39m mose_list = \u001b[38;5;28minput\u001b[39m().split()\n\u001b[32m     18\u001b[39m result = []\n",
      "\u001b[31mTypeError\u001b[39m: int() argument must be a string, a bytes-like object or a real number, not 'list'"
     ]
    }
   ],
   "source": [
    "morse = { \n",
    "\n",
    "    '.-':'a','-...':'b','-.-.':'c','-..':'d','.':'e','..-.':'f', \n",
    "\n",
    "    '--.':'g','....':'h','..':'i','.---':'j','-.-':'k','.-..':'l', \n",
    "\n",
    "    '--':'m','-.':'n','---':'o','.--.':'p','--.-':'q','.-.':'r', \n",
    "\n",
    "    '...':'s','-':'t','..-':'u','...-':'v','.--':'w','-..-':'x', \n",
    "\n",
    "    '-.--':'y','--..':'z' \n",
    "\n",
    "} \n",
    "\n",
    "n = int(input().split())\n",
    "mose_list = input().split()\n",
    "\n",
    "result = []\n",
    "for i in mose_list:\n",
    "    result.append(morse[i])\n",
    "print(\"\".join(result))"
   ]
  },
  {
   "cell_type": "code",
   "execution_count": 111,
   "id": "43ad9ca6",
   "metadata": {},
   "outputs": [
    {
     "name": "stdout",
     "output_type": "stream",
     "text": [
      "hello\n"
     ]
    }
   ],
   "source": [
    "morse = { \n",
    "\n",
    "    '.-':'a','-...':'b','-.-.':'c','-..':'d','.':'e','..-.':'f', \n",
    "\n",
    "    '--.':'g','....':'h','..':'i','.---':'j','-.-':'k','.-..':'l', \n",
    "\n",
    "    '--':'m','-.':'n','---':'o','.--.':'p','--.-':'q','.-.':'r', \n",
    "\n",
    "    '...':'s','-':'t','..-':'u','...-':'v','.--':'w','-..-':'x', \n",
    "\n",
    "    '-.--':'y','--..':'z' \n",
    "\n",
    "} \n",
    "\n",
    "letter = \".... . .-.. .-.. ---\"\n",
    "\n",
    "a = letter.split()\n",
    "\n",
    "answer = \"\"\n",
    "for i in a:\n",
    "    answer += morse[i]\n",
    "print(answer)"
   ]
  },
  {
   "cell_type": "code",
   "execution_count": 113,
   "id": "ab397ffc",
   "metadata": {},
   "outputs": [
    {
     "data": {
      "text/plain": [
       "[1, 2, 3, 4, 5, 6]"
      ]
     },
     "execution_count": 113,
     "metadata": {},
     "output_type": "execute_result"
    }
   ],
   "source": [
    "# set() == 집합, 중복제거\n",
    "\n",
    "my_list = [1,2,2,4,5,5,5,6,2,4,3,4,5,]\n",
    "\n",
    "list(set(my_list))"
   ]
  },
  {
   "cell_type": "code",
   "execution_count": 114,
   "id": "11e9dcb3",
   "metadata": {},
   "outputs": [],
   "source": [
    "a = {1,2,3,4}\n",
    "b = {3,4,5,6}"
   ]
  },
  {
   "cell_type": "code",
   "execution_count": 115,
   "id": "97507ad5",
   "metadata": {},
   "outputs": [
    {
     "data": {
      "text/plain": [
       "{1, 2, 3, 4, 5, 6}"
      ]
     },
     "execution_count": 115,
     "metadata": {},
     "output_type": "execute_result"
    }
   ],
   "source": [
    "a | b"
   ]
  },
  {
   "cell_type": "code",
   "execution_count": 116,
   "id": "eee70e8a",
   "metadata": {},
   "outputs": [
    {
     "data": {
      "text/plain": [
       "{1, 2, 3, 4, 5, 6}"
      ]
     },
     "execution_count": 116,
     "metadata": {},
     "output_type": "execute_result"
    }
   ],
   "source": [
    "a.union(b)"
   ]
  },
  {
   "cell_type": "code",
   "execution_count": 117,
   "id": "50737eec",
   "metadata": {},
   "outputs": [
    {
     "data": {
      "text/plain": [
       "{3, 4}"
      ]
     },
     "execution_count": 117,
     "metadata": {},
     "output_type": "execute_result"
    }
   ],
   "source": [
    "a.intersection(b)"
   ]
  },
  {
   "cell_type": "code",
   "execution_count": 118,
   "id": "a44335a5",
   "metadata": {},
   "outputs": [
    {
     "data": {
      "text/plain": [
       "{1, 2}"
      ]
     },
     "execution_count": 118,
     "metadata": {},
     "output_type": "execute_result"
    }
   ],
   "source": [
    "a.difference(b)"
   ]
  },
  {
   "cell_type": "code",
   "execution_count": 119,
   "id": "47295baa",
   "metadata": {},
   "outputs": [
    {
     "name": "stdout",
     "output_type": "stream",
     "text": [
      "['누드초코', '아몬드', '초코', '크런키', '크림치즈', '화이트쿠키']\n"
     ]
    }
   ],
   "source": [
    "#빼빼로데이\n",
    "\n",
    "#빼빼로의 종류는 6가지 맛('누드초코', '아몬드', '초코', '크런키', '크림치즈', '화이트쿠키')이 있었습니다.\n",
    "#이벤트 빼빼로는 한가지 맛에 하나만 구매할 수 있습니다.\n",
    "#구매한 빼빼로를 오름차순으로 정렬하여 결과를 나타내 주세요.\n",
    "\n",
    "#입력1\n",
    "#[\"초코\", \"누드초코\", \"크런키\", \"아몬드\", \"초코\", \"누드초코\", \"아몬드\", \"화이트쿠키\", \"초코\", \"초코\"]\n",
    "\n",
    "#출력1\n",
    "#['누드초코', '아몬드', '초코', '크런키', '화이트쿠키']\n",
    "\n",
    "pepero = '누드초코', '아몬드', '초코', '크런키', '크림치즈', '화이트쿠키'\n",
    "\n",
    "pero = input().split()\n",
    "answer = []\n",
    "\n",
    "print(sorted(set(pepero)))"
   ]
  },
  {
   "cell_type": "code",
   "execution_count": 133,
   "id": "477ce01b",
   "metadata": {},
   "outputs": [
    {
     "name": "stdout",
     "output_type": "stream",
     "text": [
      "7\n"
     ]
    }
   ],
   "source": [
    "word = \"culture experience symbol symbol education symbol effect education affair liberty liberty affair\"\n",
    "\n",
    "a = word.split()\n",
    "print(len(set(a)))\n"
   ]
  },
  {
   "cell_type": "code",
   "execution_count": 140,
   "id": "453194e9",
   "metadata": {},
   "outputs": [],
   "source": [
    "def my_func(a):\n",
    "    print(f\"{a}, my function\")"
   ]
  },
  {
   "cell_type": "code",
   "execution_count": 142,
   "id": "1d9f7ec5",
   "metadata": {},
   "outputs": [
    {
     "name": "stdout",
     "output_type": "stream",
     "text": [
      "hey, my function\n",
      "hi, my function\n"
     ]
    }
   ],
   "source": [
    "my_func(\"hey\")\n",
    "my_func(\"hi\")"
   ]
  },
  {
   "cell_type": "code",
   "execution_count": 147,
   "id": "c84fe445",
   "metadata": {},
   "outputs": [],
   "source": [
    "# 세개의 숫잘르 입력하여 가장 큰 수를  출력,\n",
    "\n",
    "def max_num(a,b,c) :\n",
    "    max_Val = a\n",
    "    if b > max_Val:\n",
    "        max_val = b\n",
    "    if c > max_val:\n",
    "        max_Val = c\n",
    "    return max_val\n",
    "num = max_num(1,2,3)"
   ]
  },
  {
   "cell_type": "code",
   "execution_count": 148,
   "id": "bd4e4355",
   "metadata": {},
   "outputs": [
    {
     "ename": "SyntaxError",
     "evalue": "'return' outside function (3727906321.py, line 1)",
     "output_type": "error",
     "traceback": [
      "  \u001b[36mCell\u001b[39m\u001b[36m \u001b[39m\u001b[32mIn[148]\u001b[39m\u001b[32m, line 1\u001b[39m\n\u001b[31m    \u001b[39m\u001b[31mreturn max_val\u001b[39m\n    ^\n\u001b[31mSyntaxError\u001b[39m\u001b[31m:\u001b[39m 'return' outside function\n"
     ]
    }
   ],
   "source": [
    "\n",
    "return max_val"
   ]
  },
  {
   "cell_type": "code",
   "execution_count": 149,
   "id": "ff39c12e",
   "metadata": {},
   "outputs": [],
   "source": [
    "def min_num(arr):\n",
    "    answer = arr[0]\n",
    "    for i in arr:\n",
    "        if answer > i:\n",
    "            answer = i\n",
    "        return answer\n",
    "        \n"
   ]
  },
  {
   "cell_type": "code",
   "execution_count": 150,
   "id": "f152df8f",
   "metadata": {},
   "outputs": [],
   "source": [
    "def num_min(arr):\n",
    "    answer = arr[0]\n",
    "    for i in arr:\n",
    "        if answer > i:\n",
    "            answer = i\n",
    "\n",
    "        "
   ]
  },
  {
   "cell_type": "code",
   "execution_count": 151,
   "id": "68c6931d",
   "metadata": {},
   "outputs": [],
   "source": [
    "def add_many(*args):\n",
    "    pass"
   ]
  },
  {
   "cell_type": "code",
   "execution_count": 152,
   "id": "1ebb80c2",
   "metadata": {},
   "outputs": [],
   "source": [
    "add_many(1,2,3,4,5,6,7)"
   ]
  },
  {
   "cell_type": "code",
   "execution_count": null,
   "id": "4e0d16b9",
   "metadata": {},
   "outputs": [],
   "source": []
  }
 ],
 "metadata": {
  "kernelspec": {
   "display_name": "Python 3",
   "language": "python",
   "name": "python3"
  },
  "language_info": {
   "codemirror_mode": {
    "name": "ipython",
    "version": 3
   },
   "file_extension": ".py",
   "mimetype": "text/x-python",
   "name": "python",
   "nbconvert_exporter": "python",
   "pygments_lexer": "ipython3",
   "version": "3.11.8"
  }
 },
 "nbformat": 4,
 "nbformat_minor": 5
}
